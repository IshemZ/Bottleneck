{
 "cells": [
  {
   "cell_type": "code",
   "execution_count": null,
   "metadata": {},
   "outputs": [],
   "source": [
    "<div style=\"background-color: RGB(0,150,250);\" >\n",
    "<h3 style=\"margin: auto; padding: 10px; color:#fff; \">Etape 4.1 - Exploration Web - Post Title</h2>\n",
    "</div>\n",
    "post_title_counts = pd.DataFrame(web['post_title'].value_counts()).reset_index(drop=False)\n",
    "print(post_title_counts.info())\n",
    "post_title_counts = post_title_counts.loc[post_title_counts['count'] != 2].reset_index(drop=True)\n",
    "post_title_counts\n",
    "df_post = pd.merge(post_title_counts, web, how=\"inner\", on='post_title')\n",
    "#df_post = df_post.loc[df_post['post_type'] == 'product'].reset_index(drop=True)\n",
    "df_post.head()\n",
    "<div style=\"background-color: RGB(0,150,250);\" >\n",
    "<h3 style=\"margin: auto; padding: 10px; color:#fff; \">Etape 4.2 - Exploration Web - post_excerpt</h2>\n",
    "</div>\n",
    "post_excerpt_count = pd.DataFrame(web['post_excerpt'].value_counts()).reset_index(drop=False)\n",
    "print(post_excerpt_count.info())\n",
    "#post_excerpt_count = post_excerpt_count.loc[post_excerpt_count['count'] != 2].reset_index(drop=True)\n",
    "post_excerpt_count\n",
    "df_excerpt = pd.merge(post_excerpt_count, web, how=\"inner\", on='post_excerpt')\n",
    "df_excerpt = df_excerpt.loc[df_excerpt['count'] != 1].reset_index(drop=True)\n",
    "df_excerpt.head()\n",
    "\n",
    "study_text = df_excerpt[['post_excerpt','post_title', 'post_name']]\n",
    "study_text.head(3)\n",
    "study_text['post_title'] = study_text['post_title'].str.replace(' ','-')\n",
    "study_text['post_title'] = study_text['post_title'].str.lower()\n",
    "study_text['post_title'] = study_text['post_title'].str.replace('é','e')\n",
    "study_text['post_title'] = study_text['post_title'].str.replace('è','e')\n",
    "study_text['post_title'] = study_text['post_title'].str.replace('é','e')\n",
    "study_text.head()\n",
    "\n",
    "web['guid'] = web['guid'].apply(lambda x: str(x))\n",
    "web['sku'] = web['sku'].apply(lambda x: str(x))\n",
    "web['guid'] = web['guid'].str.replace('https://www.bottle-neck.fr/?post_type=product&#038;p=', '')\n",
    "web['guid'] = web['guid'].str.replace('https://www.bottle-neck.fr/wp-content/uploads/2020/03/', '')\n",
    "web['guid'] = web['guid'].str.replace('.jpg', '')\n",
    "web.head()"
   ]
  },
  {
   "cell_type": "code",
   "execution_count": null,
   "metadata": {},
   "outputs": [],
   "source": []
  }
 ],
 "metadata": {
  "language_info": {
   "name": "python"
  }
 },
 "nbformat": 4,
 "nbformat_minor": 2
}
